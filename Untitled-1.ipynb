{
 "cells": [
  {
   "cell_type": "code",
   "execution_count": 4,
   "metadata": {},
   "outputs": [],
   "source": [
    "import datetime, pytz"
   ]
  },
  {
   "cell_type": "code",
   "execution_count": 5,
   "metadata": {},
   "outputs": [
    {
     "data": {
      "text/plain": [
       "datetime.datetime(2022, 8, 14, 15, 29, 8, 661984)"
      ]
     },
     "execution_count": 5,
     "metadata": {},
     "output_type": "execute_result"
    }
   ],
   "source": [
    "datetime.datetime.now()"
   ]
  },
  {
   "cell_type": "code",
   "execution_count": 6,
   "metadata": {},
   "outputs": [
    {
     "data": {
      "text/plain": [
       "datetime.time(15, 30, 20, 938923)"
      ]
     },
     "execution_count": 6,
     "metadata": {},
     "output_type": "execute_result"
    }
   ],
   "source": [
    "datetime.datetime.now().time()"
   ]
  },
  {
   "cell_type": "code",
   "execution_count": 11,
   "metadata": {},
   "outputs": [
    {
     "data": {
      "text/plain": [
       "datetime.datetime(2022, 8, 14, 13, 50, 2, 417447, tzinfo=<UTC>)"
      ]
     },
     "execution_count": 11,
     "metadata": {},
     "output_type": "execute_result"
    }
   ],
   "source": [
    "pytz.utc.localize(datetime.datetime.utcnow())"
   ]
  },
  {
   "cell_type": "code",
   "execution_count": 17,
   "metadata": {},
   "outputs": [
    {
     "name": "stdout",
     "output_type": "stream",
     "text": [
      "float\n"
     ]
    }
   ],
   "source": [
    "float_1 = 1.0\n",
    "print(type(float_1).__name__)"
   ]
  },
  {
   "cell_type": "code",
   "execution_count": 1,
   "metadata": {},
   "outputs": [
    {
     "name": "stdout",
     "output_type": "stream",
     "text": [
      "<class 'list'>\n"
     ]
    }
   ],
   "source": [
    "a = []\n",
    "print(type(a))"
   ]
  },
  {
   "cell_type": "code",
   "execution_count": 16,
   "metadata": {},
   "outputs": [
    {
     "name": "stdout",
     "output_type": "stream",
     "text": [
      "<bound method Geek.get_age of <__main__.Geek object at 0x7fae5957e560>>\n",
      "21\n"
     ]
    }
   ],
   "source": [
    "class Geek():\n",
    "    \"\"\"docstring for Geek.\"\"\"\n",
    "    def __init__(self, age = 0):\n",
    "    \tself._age = age \n",
    "    \n",
    "    def get_age(self):\n",
    "        return self._age\n",
    "    \n",
    "    def set_age(self, x):\n",
    "        self._age = x \n",
    "        \n",
    "raj = Geek()\n",
    "                   \n",
    "raj.set_age(21)\n",
    "\n",
    "print(raj.get_age)\n",
    "\n",
    "print(raj._age)    "
   ]
  },
  {
   "cell_type": "code",
   "execution_count": 15,
   "metadata": {},
   "outputs": [
    {
     "name": "stdout",
     "output_type": "stream",
     "text": [
      "setter method called\n",
      "getter method called\n",
      "10\n"
     ]
    }
   ],
   "source": [
    "# Python program showing a\n",
    "# use of property() function\n",
    "  \n",
    "class Geeks:\n",
    "     def __init__(self):\n",
    "          self._age = 0\n",
    "       \n",
    "     # function to get value of _age\n",
    "     def get_age(self):\n",
    "         print(\"getter method called\")\n",
    "         return self._age\n",
    "       \n",
    "     # function to set value of _age\n",
    "     def set_age(self, a):\n",
    "         print(\"setter method called\")\n",
    "         self._age = a\n",
    "  \n",
    "     # function to delete _age attribute\n",
    "     def del_age(self):\n",
    "         del self._age\n",
    "     \n",
    "     age = property(get_age, set_age, del_age) \n",
    "  \n",
    "mark = Geeks()\n",
    "  \n",
    "mark.age = 10\n",
    "  \n",
    "print(mark.age)"
   ]
  },
  {
   "cell_type": "code",
   "execution_count": 17,
   "metadata": {},
   "outputs": [
    {
     "name": "stdout",
     "output_type": "stream",
     "text": [
      "setter method called\n",
      "getter method called\n",
      "19\n"
     ]
    }
   ],
   "source": [
    "# Python program showing the use of\n",
    "# @property\n",
    "\n",
    "class Geeks:\n",
    "\tdef __init__(self):\n",
    "\t\tself._age = 0\n",
    "\t\n",
    "\t# using property decorator\n",
    "\t# a getter function\n",
    "\t@property\n",
    "\tdef age(self):\n",
    "\t\tprint(\"getter method called\")\n",
    "\t\treturn self._age\n",
    "\t\n",
    "\t# a setter function\n",
    "\t@age.setter\n",
    "\tdef age(self, a):\n",
    "\t\tif(a < 18):\n",
    "\t\t\traise ValueError(\"Sorry you age is below eligibility criteria\")\n",
    "\t\tprint(\"setter method called\")\n",
    "\t\tself._age = a\n",
    "\n",
    "mark = Geeks()\n",
    "\n",
    "mark.age = 19\n",
    "\n",
    "print(mark.age)\n"
   ]
  },
  {
   "cell_type": "code",
   "execution_count": null,
   "metadata": {},
   "outputs": [],
   "source": []
  }
 ],
 "metadata": {
  "kernelspec": {
   "display_name": "Python 3.10.6 ('venv': venv)",
   "language": "python",
   "name": "python3"
  },
  "language_info": {
   "codemirror_mode": {
    "name": "ipython",
    "version": 3
   },
   "file_extension": ".py",
   "mimetype": "text/x-python",
   "name": "python",
   "nbconvert_exporter": "python",
   "pygments_lexer": "ipython3",
   "version": "3.10.6"
  },
  "orig_nbformat": 4,
  "vscode": {
   "interpreter": {
    "hash": "2fcaa87a52ad26e83d6a4b30820a5053c6a0af0b7046e3ae8fef079a09ec0e34"
   }
  }
 },
 "nbformat": 4,
 "nbformat_minor": 2
}
